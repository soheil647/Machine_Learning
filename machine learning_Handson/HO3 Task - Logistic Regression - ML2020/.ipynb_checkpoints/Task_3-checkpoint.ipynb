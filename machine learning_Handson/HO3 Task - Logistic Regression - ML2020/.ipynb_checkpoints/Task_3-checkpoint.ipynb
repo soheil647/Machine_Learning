{
 "cells": [
  {
   "cell_type": "markdown",
   "metadata": {},
   "source": [
    "<img src='http://arch.ut.ac.ir/documents/70819125/2017cca1-b036-41de-bcce-f7376699275b' alt=\"UT logo\" width=\"120\" height=\"120\" align=\"left\">\n",
    "\n",
    "<h1 align=center><font size=5> <b><i>Machine Learning(Fall 2020)</b><br>Task 3</i></font></h1>"
   ]
  },
  {
   "cell_type": "markdown",
   "metadata": {},
   "source": [
    "#### In this notebook we want to become more familiar with data visualization and classify data with Logistic Regression."
   ]
  },
  {
   "cell_type": "markdown",
   "metadata": {},
   "source": [
    "# Section 1: MNIST Dataset\n",
    "You can find information about the dataset and download it from [here](https://www.kaggle.com/oddrationale/mnist-in-csv)(please download train dataset).\n"
   ]
  },
  {
   "cell_type": "markdown",
   "metadata": {},
   "source": [
    "## Visualize Dataset\n",
    "Define functions for each purpose:\n",
    "1. plot a digit\n",
    "\n",
    "<img src=\"images/digit.png\" width=\"50\" height=\"50\">\n",
    "\n",
    "2. plot a series of instances of each class\n",
    "\n",
    "<img src=\"images/digits.png\" width=\"300\" height=\"300\">\n",
    "3. Plot a shifted digit\n",
    "\n",
    "<img src=\"images/shift.png\" width=\"300\" height=\"70\">"
   ]
  },
  {
   "cell_type": "markdown",
   "metadata": {},
   "source": [
    "## Classification\n",
    "In this part, you should do a binary classification to predict if a digit is '4' or not. report the requests listed below:\n",
    "1. Plot Confusion Matrix and ROC\n",
    "2. Report Accuracy, Sensitivity, Specificity, Precision and Recall.\n",
    "3. Plot Recall vs Precision for different thresholds (using sklearn.metrics.precision_recall_curve) like the figures below:\n",
    "\n",
    "<img src=\"images/rec_vs_pre1 .png\" width=\"300\" height=\"100\">\n",
    "<img src=\"images/rec_vs_pre2 .png\" width=\"320\" height=\"300\">\n"
   ]
  },
  {
   "cell_type": "markdown",
   "metadata": {},
   "source": [
    "# Section 2: Titanic Dataset\n",
    "\n",
    "You can find information about the dataset and download it from [here](https://www.kaggle.com/c/titanic/data)(please download train dataset).\n"
   ]
  },
  {
   "cell_type": "markdown",
   "metadata": {},
   "source": [
    "## Cleaning Dataset\n",
    "Do some process and answer to questions below:\n",
    "\n",
    "1. Which columns have missing values?\n",
    "2. How do you fill the missing values, and why do you use this approach?"
   ]
  },
  {
   "cell_type": "markdown",
   "metadata": {},
   "source": [
    "## Exploratory Data Analysis\n",
    "\n",
    "Answer to these questions by plot relating figures:\n",
    "\n",
    "1. Compare the age distribution for survivors and the deceased. Do you see any interesting points?\n",
    "2. Compare the fare distribution for survivors and the deceased. Look at the features' description on Kaggle, is there any other feature that seems to be highly correlated to fare? Explain it.\n",
    "3. Plot the survivors based on the embarked port. What do you see? Do you have any hypothesis? \n",
    "4. Plot data based on traveling alone and with family (you may need to merge 2 columns of data somehow).\n",
    "5. Which gender was more likely to survive? Do you know why?"
   ]
  },
  {
   "cell_type": "markdown",
   "metadata": {},
   "source": [
    "## Classification\n",
    "n this part, you should do a binary classification to predict if a passenger survives or not. report the requests listed below:\n",
    "1. Plot Confusion Matrix and ROC\n",
    "2. Report Accuracy, Sensitivity, Specificity, Precision, and Recall.\n",
    "-------------------------------------------------------------------------------------------------------------------------------\n",
    "* Like the explanation notebook, do the necessary preprocess transformation on the dataset and report what you have done.  You get a bonus mark if you use dimension reduction techniques."
   ]
  },
  {
   "cell_type": "code",
   "execution_count": null,
   "metadata": {},
   "outputs": [],
   "source": []
  }
 ],
 "metadata": {
  "kernelspec": {
   "display_name": "Python 3",
   "language": "python",
   "name": "python3"
  },
  "language_info": {
   "codemirror_mode": {
    "name": "ipython",
    "version": 3
   },
   "file_extension": ".py",
   "mimetype": "text/x-python",
   "name": "python",
   "nbconvert_exporter": "python",
   "pygments_lexer": "ipython3",
   "version": "3.7.6"
  }
 },
 "nbformat": 4,
 "nbformat_minor": 4
}
